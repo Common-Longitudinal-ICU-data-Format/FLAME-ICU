{
 "cells": [
  {
   "cell_type": "markdown",
   "id": "6b107859",
   "metadata": {
    "papermill": {
     "duration": 0.006823,
     "end_time": "2025-07-31T22:28:49.688578",
     "exception": false,
     "start_time": "2025-07-31T22:28:49.681755",
     "status": "completed"
    },
    "tags": []
   },
   "source": [
    "# ICU Mortality Model - Cohort Generation\n",
    "\n",
    "This notebook generates the ICU cohort for mortality prediction modeling following the PRD requirements.\n",
    "\n",
    "## Objective\n",
    "Generate a cohort table containing:\n",
    "- `hospitalization_id`\n",
    "- `start_dttm`: ICU admission timestamp\n",
    "- `hour_24_start_dttm`: first ICU hour (may equal start_dttm)\n",
    "- `hour_24_end_dttm`: end of the first 24 hours\n",
    "- `disposition`: binary outcome (1 = expired, 0 = survived)\n",
    "\n",
    "## Cohort Criteria\n",
    "- First 24 hours of first ICU stay\n",
    "- Exclude re-admissions and ICU readmissions\n",
    "- ICU-OR-ICU sequences treated as continuous ICU stay\n",
    "- Minimum 24-hour ICU stay\n",
    "- Adults (≥18 years)\n",
    "- 2020-2021 data"
   ]
  },
  {
   "cell_type": "markdown",
   "id": "ef087dcd",
   "metadata": {
    "papermill": {
     "duration": 0.00368,
     "end_time": "2025-07-31T22:28:49.697042",
     "exception": false,
     "start_time": "2025-07-31T22:28:49.693362",
     "status": "completed"
    },
    "tags": []
   },
   "source": [
    "## Setup and Configuration"
   ]
  },
  {
   "cell_type": "code",
   "execution_count": 1,
   "id": "fb1b5fac",
   "metadata": {
    "execution": {
     "iopub.execute_input": "2025-07-31T22:28:49.704689Z",
     "iopub.status.busy": "2025-07-31T22:28:49.704438Z",
     "iopub.status.idle": "2025-07-31T22:28:49.907600Z",
     "shell.execute_reply": "2025-07-31T22:28:49.907381Z"
    },
    "papermill": {
     "duration": 0.207685,
     "end_time": "2025-07-31T22:28:49.908237",
     "exception": false,
     "start_time": "2025-07-31T22:28:49.700552",
     "status": "completed"
    },
    "tags": []
   },
   "outputs": [
    {
     "name": "stdout",
     "output_type": "stream",
     "text": [
      "=== ICU Mortality Model - Cohort Generation ===\n",
      "Setting up environment...\n"
     ]
    }
   ],
   "source": [
    "import sys\n",
    "import os\n",
    "sys.path.append(os.path.join('..', 'src'))\n",
    "\n",
    "import pandas as pd\n",
    "import numpy as np\n",
    "from pyclif import CLIF\n",
    "import json\n",
    "import warnings\n",
    "warnings.filterwarnings('ignore')\n",
    "\n",
    "print(\"=== ICU Mortality Model - Cohort Generation ===\")\n",
    "print(\"Setting up environment...\")"
   ]
  },
  {
   "cell_type": "code",
   "execution_count": 2,
   "id": "0c782a49",
   "metadata": {
    "execution": {
     "iopub.execute_input": "2025-07-31T22:28:49.910841Z",
     "iopub.status.busy": "2025-07-31T22:28:49.910718Z",
     "iopub.status.idle": "2025-07-31T22:28:49.913056Z",
     "shell.execute_reply": "2025-07-31T22:28:49.912893Z"
    },
    "papermill": {
     "duration": 0.004183,
     "end_time": "2025-07-31T22:28:49.913588",
     "exception": false,
     "start_time": "2025-07-31T22:28:49.909405",
     "status": "completed"
    },
    "tags": []
   },
   "outputs": [
    {
     "name": "stdout",
     "output_type": "stream",
     "text": [
      "✅ Loaded configuration from ../../config_demo.json\n",
      "Site: MIMIC\n",
      "Data path: /Users/sudo_sage/Documents/WORK/clif_mimic\n",
      "File type: parquet\n"
     ]
    }
   ],
   "source": [
    "def load_config():\n",
    "    \"\"\"Load configuration from config.json\"\"\"\n",
    "    # Try top-level config_demo.json first (new location)\n",
    "    config_path = os.path.join(\"..\", \"..\", \"config_demo.json\")\n",
    "    \n",
    "    if not os.path.exists(config_path):\n",
    "        # Fallback to local config_demo.json\n",
    "        config_path = \"config_demo.json\"\n",
    "    \n",
    "    if os.path.exists(config_path):\n",
    "        with open(config_path, 'r') as file:\n",
    "            config = json.load(file)\n",
    "        print(f\"✅ Loaded configuration from {config_path}\")\n",
    "    else:\n",
    "        raise FileNotFoundError(f\"Configuration file not found. Tried: {config_path}\")\n",
    "    \n",
    "    return config\n",
    "\n",
    "# Load configuration\n",
    "config = load_config()\n",
    "print(f\"Site: {config['site']}\")\n",
    "print(f\"Data path: {config['clif2_path']}\")\n",
    "print(f\"File type: {config['filetype']}\")"
   ]
  },
  {
   "cell_type": "code",
   "execution_count": 3,
   "id": "6ff78724",
   "metadata": {
    "execution": {
     "iopub.execute_input": "2025-07-31T22:28:49.915790Z",
     "iopub.status.busy": "2025-07-31T22:28:49.915711Z",
     "iopub.status.idle": "2025-07-31T22:28:49.917276Z",
     "shell.execute_reply": "2025-07-31T22:28:49.917081Z"
    },
    "papermill": {
     "duration": 0.003294,
     "end_time": "2025-07-31T22:28:49.917831",
     "exception": false,
     "start_time": "2025-07-31T22:28:49.914537",
     "status": "completed"
    },
    "tags": []
   },
   "outputs": [
    {
     "name": "stdout",
     "output_type": "stream",
     "text": [
      "CLIF Object Initialized.\n",
      "✅ pyCLIF initialized successfully\n"
     ]
    }
   ],
   "source": [
    "# Initialize pyCLIF\n",
    "clif = CLIF(\n",
    "    data_dir=config['clif2_path'],\n",
    "    filetype=config['filetype'],\n",
    "    timezone=\"US/Eastern\"\n",
    ")\n",
    "\n",
    "print(\"✅ pyCLIF initialized successfully\")"
   ]
  },
  {
   "cell_type": "markdown",
   "id": "a3856e34",
   "metadata": {
    "papermill": {
     "duration": 0.001044,
     "end_time": "2025-07-31T22:28:49.920281",
     "exception": false,
     "start_time": "2025-07-31T22:28:49.919237",
     "status": "completed"
    },
    "tags": []
   },
   "source": [
    "## Data Loading and Preparation"
   ]
  },
  {
   "cell_type": "code",
   "execution_count": 4,
   "id": "5171cbe6",
   "metadata": {
    "execution": {
     "iopub.execute_input": "2025-07-31T22:28:49.922543Z",
     "iopub.status.busy": "2025-07-31T22:28:49.922467Z",
     "iopub.status.idle": "2025-07-31T22:28:51.188427Z",
     "shell.execute_reply": "2025-07-31T22:28:51.188179Z"
    },
    "papermill": {
     "duration": 1.267802,
     "end_time": "2025-07-31T22:28:51.189093",
     "exception": false,
     "start_time": "2025-07-31T22:28:49.921291",
     "status": "completed"
    },
    "tags": []
   },
   "outputs": [
    {
     "name": "stdout",
     "output_type": "stream",
     "text": [
      "Loading required tables...\n",
      "Loading clif_adt.parquet\n"
     ]
    },
    {
     "name": "stdout",
     "output_type": "stream",
     "text": [
      "Data loaded successfully from clif_adt.parquet\n",
      "Validation completed with 3 error(s). See `errors` attribute.\n",
      "Loading clif_hospitalization.parquet\n"
     ]
    },
    {
     "name": "stdout",
     "output_type": "stream",
     "text": [
      "Data loaded successfully from clif_hospitalization.parquet\n",
      "Validation completed with 1 error(s). See `errors` attribute.\n",
      "Loading clif_patient.parquet\n"
     ]
    },
    {
     "name": "stdout",
     "output_type": "stream",
     "text": [
      "Data loaded successfully from clif_patient.parquet\n",
      "Validation completed with 8 error(s). See `errors` attribute.\n",
      "ADT data loaded: 1458408 records\n",
      "Hospitalization data loaded: 546028 records\n",
      "Patient data loaded: 364627 records\n"
     ]
    }
   ],
   "source": [
    "# Load required tables using pyCLIF\n",
    "print(\"Loading required tables...\")\n",
    "clif.initialize([\"adt\", \"hospitalization\", \"patient\"])\n",
    "\n",
    "# Load ADT data\n",
    "adt_df = clif.adt.df.copy()\n",
    "print(f\"ADT data loaded: {len(adt_df)} records\")\n",
    "\n",
    "# Load hospitalization data\n",
    "hosp_df = clif.hospitalization.df.copy()\n",
    "print(f\"Hospitalization data loaded: {len(hosp_df)} records\")\n",
    "\n",
    "# Load patient data\n",
    "patient_df = clif.patient.df.copy()\n",
    "print(f\"Patient data loaded: {len(patient_df)} records\")"
   ]
  },
  {
   "cell_type": "code",
   "execution_count": 5,
   "id": "3f7afba0",
   "metadata": {
    "execution": {
     "iopub.execute_input": "2025-07-31T22:28:51.191883Z",
     "iopub.status.busy": "2025-07-31T22:28:51.191788Z",
     "iopub.status.idle": "2025-07-31T22:28:51.230845Z",
     "shell.execute_reply": "2025-07-31T22:28:51.230649Z"
    },
    "papermill": {
     "duration": 0.041055,
     "end_time": "2025-07-31T22:28:51.231474",
     "exception": false,
     "start_time": "2025-07-31T22:28:51.190419",
     "status": "completed"
    },
    "tags": []
   },
   "outputs": [
    {
     "data": {
      "text/plain": [
       "location_category\n",
       "ward          640846\n",
       "ed            476770\n",
       "icu           118077\n",
       "other          71399\n",
       "stepdown       70482\n",
       "procedural     34958\n",
       "l&d            29003\n",
       "psych          16873\n",
       "Name: count, dtype: int64"
      ]
     },
     "execution_count": 5,
     "metadata": {},
     "output_type": "execute_result"
    }
   ],
   "source": [
    "adt_df.location_category.value_counts()"
   ]
  },
  {
   "cell_type": "code",
   "execution_count": 6,
   "id": "221b6269",
   "metadata": {
    "execution": {
     "iopub.execute_input": "2025-07-31T22:28:51.234536Z",
     "iopub.status.busy": "2025-07-31T22:28:51.234344Z",
     "iopub.status.idle": "2025-07-31T22:28:51.632300Z",
     "shell.execute_reply": "2025-07-31T22:28:51.632057Z"
    },
    "papermill": {
     "duration": 0.40023,
     "end_time": "2025-07-31T22:28:51.632957",
     "exception": false,
     "start_time": "2025-07-31T22:28:51.232727",
     "status": "completed"
    },
    "tags": []
   },
   "outputs": [
    {
     "name": "stdout",
     "output_type": "stream",
     "text": [
      "Preparing data for cohort generation...\n"
     ]
    },
    {
     "name": "stdout",
     "output_type": "stream",
     "text": [
      "Merged data: 1458408 records\n",
      "✅ Data preparation completed\n"
     ]
    }
   ],
   "source": [
    "# Prepare data for cohort generation\n",
    "print(\"Preparing data for cohort generation...\")\n",
    "\n",
    "# Merge ADT with hospitalization data\n",
    "icu_data = pd.merge(\n",
    "    adt_df[['hospitalization_id', 'location_category', 'in_dttm', 'out_dttm']],\n",
    "    hosp_df[['patient_id', 'hospitalization_id', 'age_at_admission', 'discharge_category', 'admission_dttm']],\n",
    "    on='hospitalization_id',\n",
    "    how='left'\n",
    ")\n",
    "\n",
    "print(f\"Merged data: {len(icu_data)} records\")\n",
    "\n",
    "# Convert datetime columns\n",
    "datetime_cols = ['in_dttm', 'out_dttm', 'admission_dttm']\n",
    "for col in datetime_cols:\n",
    "    icu_data[col] = pd.to_datetime(icu_data[col])\n",
    "\n",
    "# Handle location categories (convert procedural to OR as in Inference_py.ipynb)\n",
    "icu_data.loc[icu_data['location_category'] == 'procedural', 'location_category'] = 'OR'\n",
    "icu_data['location_category'] = icu_data['location_category'].str.upper()\n",
    "\n",
    "print(\"✅ Data preparation completed\")"
   ]
  },
  {
   "cell_type": "markdown",
   "id": "61a77f20",
   "metadata": {
    "papermill": {
     "duration": 0.001102,
     "end_time": "2025-07-31T22:28:51.635378",
     "exception": false,
     "start_time": "2025-07-31T22:28:51.634276",
     "status": "completed"
    },
    "tags": []
   },
   "source": [
    "## ICU Cohort Selection"
   ]
  },
  {
   "cell_type": "code",
   "execution_count": 7,
   "id": "3c0a6dc3",
   "metadata": {
    "execution": {
     "iopub.execute_input": "2025-07-31T22:28:51.637949Z",
     "iopub.status.busy": "2025-07-31T22:28:51.637732Z",
     "iopub.status.idle": "2025-07-31T22:28:51.639255Z",
     "shell.execute_reply": "2025-07-31T22:28:51.639077Z"
    },
    "papermill": {
     "duration": 0.003439,
     "end_time": "2025-07-31T22:28:51.639831",
     "exception": false,
     "start_time": "2025-07-31T22:28:51.636392",
     "status": "completed"
    },
    "tags": []
   },
   "outputs": [],
   "source": [
    "#icu_data.head()"
   ]
  },
  {
   "cell_type": "code",
   "execution_count": 8,
   "id": "408cf2ec",
   "metadata": {
    "execution": {
     "iopub.execute_input": "2025-07-31T22:28:51.643186Z",
     "iopub.status.busy": "2025-07-31T22:28:51.643081Z",
     "iopub.status.idle": "2025-07-31T22:28:51.951887Z",
     "shell.execute_reply": "2025-07-31T22:28:51.951682Z"
    },
    "papermill": {
     "duration": 0.311173,
     "end_time": "2025-07-31T22:28:51.952477",
     "exception": false,
     "start_time": "2025-07-31T22:28:51.641304",
     "status": "completed"
    },
    "tags": []
   },
   "outputs": [
    {
     "name": "stdout",
     "output_type": "stream",
     "text": [
      "Applying initial cohort filters...\n"
     ]
    },
    {
     "name": "stdout",
     "output_type": "stream",
     "text": [
      "Hospitalizations with ICU within 48hr: 73430\n"
     ]
    },
    {
     "name": "stdout",
     "output_type": "stream",
     "text": [
      "Filtered data for processing: 237855 records\n"
     ]
    }
   ],
   "source": [
    "# Apply initial filters\n",
    "print(\"Applying initial cohort filters...\")\n",
    "\n",
    "# Filter for ICU admissions within 48 hours of hospital admission\n",
    "icu_48hr_check = icu_data[\n",
    "    (icu_data['location_category'] == 'ICU') &\n",
    "    (icu_data['in_dttm'] >= icu_data['admission_dttm']) &\n",
    "    (icu_data['in_dttm'] <= icu_data['admission_dttm'] + pd.Timedelta(hours=48)) &\n",
    "   # (icu_data['admission_dttm'].dt.year >= 2020) & (icu_data['admission_dttm'].dt.year <= 2021) &\n",
    "    (icu_data['age_at_admission'] >= 18) & (icu_data['age_at_admission'].notna())\n",
    "]['hospitalization_id'].unique()\n",
    "\n",
    "print(f\"Hospitalizations with ICU within 48hr: {len(icu_48hr_check)}\")\n",
    "\n",
    "# Filter to relevant encounters and extend to 72 hours for location tracking\n",
    "icu_data = icu_data[\n",
    "    icu_data['hospitalization_id'].isin(icu_48hr_check) &\n",
    "    (icu_data['in_dttm'] <= icu_data['admission_dttm'] + pd.Timedelta(hours=72))\n",
    "].reset_index(drop=True)\n",
    "\n",
    "print(f\"Filtered data for processing: {len(icu_data)} records\")"
   ]
  },
  {
   "cell_type": "code",
   "execution_count": 9,
   "id": "baac079e",
   "metadata": {
    "execution": {
     "iopub.execute_input": "2025-07-31T22:28:51.955376Z",
     "iopub.status.busy": "2025-07-31T22:28:51.955285Z",
     "iopub.status.idle": "2025-07-31T22:28:52.287096Z",
     "shell.execute_reply": "2025-07-31T22:28:52.286813Z"
    },
    "papermill": {
     "duration": 0.333942,
     "end_time": "2025-07-31T22:28:52.287774",
     "exception": false,
     "start_time": "2025-07-31T22:28:51.953832",
     "status": "completed"
    },
    "tags": []
   },
   "outputs": [
    {
     "name": "stdout",
     "output_type": "stream",
     "text": [
      "Processing ICU-OR-ICU sequences...\n"
     ]
    },
    {
     "name": "stdout",
     "output_type": "stream",
     "text": [
      "After ICU-OR-ICU processing: 148501 records\n"
     ]
    }
   ],
   "source": [
    "# Process ICU-OR-ICU sequences (treat as continuous ICU)\n",
    "print(\"Processing ICU-OR-ICU sequences...\")\n",
    "\n",
    "# Sort by admission time and create ranking\n",
    "icu_data = icu_data.sort_values(by=['in_dttm']).reset_index(drop=True)\n",
    "icu_data[\"RANK\"] = icu_data.sort_values(by=['in_dttm'], ascending=True).groupby(\"hospitalization_id\")[\"in_dttm\"].rank(method=\"first\", ascending=True).astype(int)\n",
    "\n",
    "# Find minimum ICU rank for each hospitalization\n",
    "min_icu = icu_data[icu_data['location_category'] == 'ICU'].groupby('hospitalization_id')['RANK'].min()\n",
    "icu_data = pd.merge(icu_data, pd.DataFrame(zip(min_icu.index, min_icu.values), columns=['hospitalization_id', 'min_icu']), on='hospitalization_id', how='left')\n",
    "\n",
    "# Filter to locations from first ICU onward\n",
    "icu_data = icu_data[icu_data['RANK'] >= icu_data['min_icu']].reset_index(drop=True)\n",
    "\n",
    "# Convert OR to ICU for continuity (ICU-OR-ICU treated as continuous ICU)\n",
    "icu_data.loc[icu_data['location_category'] == 'OR', 'location_category'] = 'ICU'\n",
    "\n",
    "print(f\"After ICU-OR-ICU processing: {len(icu_data)} records\")"
   ]
  },
  {
   "cell_type": "code",
   "execution_count": 10,
   "id": "a3bfba7f",
   "metadata": {
    "execution": {
     "iopub.execute_input": "2025-07-31T22:28:52.290806Z",
     "iopub.status.busy": "2025-07-31T22:28:52.290718Z",
     "iopub.status.idle": "2025-07-31T22:28:52.510558Z",
     "shell.execute_reply": "2025-07-31T22:28:52.510334Z"
    },
    "papermill": {
     "duration": 0.221933,
     "end_time": "2025-07-31T22:28:52.511177",
     "exception": false,
     "start_time": "2025-07-31T22:28:52.289244",
     "status": "completed"
    },
    "tags": []
   },
   "outputs": [
    {
     "name": "stdout",
     "output_type": "stream",
     "text": [
      "Grouping consecutive ICU locations...\n"
     ]
    },
    {
     "name": "stdout",
     "output_type": "stream",
     "text": [
      "Grouped data: 125005 records\n"
     ]
    }
   ],
   "source": [
    "# Group consecutive ICU locations\n",
    "print(\"Grouping consecutive ICU locations...\")\n",
    "\n",
    "# Create groups for consecutive locations\n",
    "icu_data['group_id'] = (icu_data.groupby('hospitalization_id')['location_category'].shift() != icu_data['location_category']).astype(int)\n",
    "icu_data['group_id'] = icu_data.sort_values(by=['in_dttm'], ascending=True).groupby('hospitalization_id')['group_id'].cumsum()\n",
    "\n",
    "# Aggregate by groups\n",
    "icu_data = icu_data.sort_values(by=['in_dttm'], ascending=True).groupby(['patient_id', 'hospitalization_id', 'location_category', 'group_id']).agg(\n",
    "    min_in_dttm=('in_dttm', 'min'),\n",
    "    max_out_dttm=('out_dttm', 'max'),\n",
    "    admission_dttm=('admission_dttm', 'first'),\n",
    "    age=('age_at_admission', 'first'),\n",
    "    dispo=('discharge_category', 'first')\n",
    ").reset_index()\n",
    "\n",
    "print(f\"Grouped data: {len(icu_data)} records\")"
   ]
  },
  {
   "cell_type": "code",
   "execution_count": 11,
   "id": "59265978",
   "metadata": {
    "execution": {
     "iopub.execute_input": "2025-07-31T22:28:52.514178Z",
     "iopub.status.busy": "2025-07-31T22:28:52.514092Z",
     "iopub.status.idle": "2025-07-31T22:28:52.611578Z",
     "shell.execute_reply": "2025-07-31T22:28:52.611350Z"
    },
    "papermill": {
     "duration": 0.099616,
     "end_time": "2025-07-31T22:28:52.612197",
     "exception": false,
     "start_time": "2025-07-31T22:28:52.512581",
     "status": "completed"
    },
    "tags": []
   },
   "outputs": [
    {
     "name": "stdout",
     "output_type": "stream",
     "text": [
      "Applying final cohort criteria...\n",
      "Final cohort before demographics: 54509 records\n",
      "✅ ICU cohort criteria applied\n"
     ]
    }
   ],
   "source": [
    "# Apply final cohort criteria\n",
    "print(\"Applying final cohort criteria...\")\n",
    "\n",
    "# Find minimum ICU group for each hospitalization\n",
    "min_icu_group = icu_data[icu_data['location_category'] == 'ICU'].groupby('hospitalization_id')['group_id'].min()\n",
    "icu_data = pd.merge(icu_data, pd.DataFrame(zip(min_icu_group.index, min_icu_group.values), columns=['hospitalization_id', 'min_icu_group']), on='hospitalization_id', how='left')\n",
    "\n",
    "# Filter to first ICU stay with minimum 24-hour duration\n",
    "icu_data = icu_data[\n",
    "    (icu_data['min_icu_group'] == icu_data['group_id']) &\n",
    "    (icu_data['max_out_dttm'] - icu_data['min_in_dttm'] >= pd.Timedelta(hours=24))\n",
    "].reset_index(drop=True)\n",
    "\n",
    "print(f\"Final cohort before demographics: {len(icu_data)} records\")\n",
    "\n",
    "# Add 24-hour endpoint\n",
    "icu_data['after_24hr'] = icu_data['min_in_dttm'] + pd.Timedelta(hours=24)\n",
    "\n",
    "# Select required columns\n",
    "icu_data = icu_data[['patient_id', 'hospitalization_id', 'min_in_dttm', 'max_out_dttm', 'after_24hr', 'age', 'dispo']]\n",
    "\n",
    "print(\"✅ ICU cohort criteria applied\")"
   ]
  },
  {
   "cell_type": "markdown",
   "id": "48e97787",
   "metadata": {
    "papermill": {
     "duration": 0.001225,
     "end_time": "2025-07-31T22:28:52.614850",
     "exception": false,
     "start_time": "2025-07-31T22:28:52.613625",
     "status": "completed"
    },
    "tags": []
   },
   "source": [
    "## Add Demographics and Create Final Cohort"
   ]
  },
  {
   "cell_type": "code",
   "execution_count": 12,
   "id": "a3c5aa79",
   "metadata": {
    "execution": {
     "iopub.execute_input": "2025-07-31T22:28:52.617497Z",
     "iopub.status.busy": "2025-07-31T22:28:52.617413Z",
     "iopub.status.idle": "2025-07-31T22:28:52.684642Z",
     "shell.execute_reply": "2025-07-31T22:28:52.684402Z"
    },
    "papermill": {
     "duration": 0.069283,
     "end_time": "2025-07-31T22:28:52.685251",
     "exception": false,
     "start_time": "2025-07-31T22:28:52.615968",
     "status": "completed"
    },
    "tags": []
   },
   "outputs": [
    {
     "name": "stdout",
     "output_type": "stream",
     "text": [
      "Adding patient demographics...\n",
      "Final cohort with demographics: 54509 records\n"
     ]
    }
   ],
   "source": [
    "# Add patient demographics\n",
    "print(\"Adding patient demographics...\")\n",
    "\n",
    "# Rename columns for consistency with CLIF 2.0\n",
    "patient_df_clean = patient_df.rename(columns={\n",
    "    'race_category': 'race',\n",
    "    'ethnicity_category': 'ethnicity',\n",
    "    'sex_category': 'sex'\n",
    "})\n",
    "\n",
    "# Merge with patient data\n",
    "icu_data = pd.merge(\n",
    "    icu_data,\n",
    "    patient_df_clean[['patient_id', 'sex', 'ethnicity', 'race']],\n",
    "    on='patient_id',\n",
    "    how='left'\n",
    ")\n",
    "\n",
    "# Filter out records with missing sex (data quality)\n",
    "icu_data = icu_data[~icu_data['sex'].isna()].reset_index(drop=True)\n",
    "\n",
    "print(f\"Final cohort with demographics: {len(icu_data)} records\")"
   ]
  },
  {
   "cell_type": "code",
   "execution_count": 13,
   "id": "ac1e2194",
   "metadata": {
    "execution": {
     "iopub.execute_input": "2025-07-31T22:28:52.688276Z",
     "iopub.status.busy": "2025-07-31T22:28:52.688197Z",
     "iopub.status.idle": "2025-07-31T22:28:52.689553Z",
     "shell.execute_reply": "2025-07-31T22:28:52.689367Z"
    },
    "papermill": {
     "duration": 0.0034,
     "end_time": "2025-07-31T22:28:52.690104",
     "exception": false,
     "start_time": "2025-07-31T22:28:52.686704",
     "status": "completed"
    },
    "tags": []
   },
   "outputs": [],
   "source": [
    "#icu_data.head()"
   ]
  },
  {
   "cell_type": "code",
   "execution_count": 14,
   "id": "8c11d279",
   "metadata": {
    "execution": {
     "iopub.execute_input": "2025-07-31T22:28:52.692817Z",
     "iopub.status.busy": "2025-07-31T22:28:52.692737Z",
     "iopub.status.idle": "2025-07-31T22:28:52.713405Z",
     "shell.execute_reply": "2025-07-31T22:28:52.713187Z"
    },
    "papermill": {
     "duration": 0.022712,
     "end_time": "2025-07-31T22:28:52.714035",
     "exception": false,
     "start_time": "2025-07-31T22:28:52.691323",
     "status": "completed"
    },
    "tags": []
   },
   "outputs": [
    {
     "name": "stdout",
     "output_type": "stream",
     "text": [
      "Creating final cohort table...\n"
     ]
    },
    {
     "name": "stdout",
     "output_type": "stream",
     "text": [
      "✅ Final cohort created: 54509 hospitalizations\n",
      "Mortality rate: 0.110\n"
     ]
    }
   ],
   "source": [
    "# Create final cohort table with required columns\n",
    "print(\"Creating final cohort table...\")\n",
    "\n",
    "# Create disposition binary variable (1 = expired, 0 = survived)\n",
    "icu_data['disposition'] = (icu_data['dispo'].fillna('Other').str.contains('dead|expired|death|died', case=False, regex=True)).astype(int)\n",
    "\n",
    "# Create final cohort with PRD required columns\n",
    "cohort_final = icu_data[[\n",
    "    'hospitalization_id',\n",
    "    'min_in_dttm',     # start_dttm\n",
    "    'after_24hr',      # hour_24_end_dttm\n",
    "    'disposition'\n",
    "]].rename(columns={\n",
    "    'min_in_dttm': 'start_dttm',\n",
    "    'after_24hr': 'hour_24_end_dttm'\n",
    "})\n",
    "\n",
    "# Add hour_24_start_dttm (same as start_dttm for our cohort)\n",
    "cohort_final['hour_24_start_dttm'] = cohort_final['start_dttm']\n",
    "\n",
    "# Reorder columns as per PRD\n",
    "cohort_final = cohort_final[[\n",
    "    'hospitalization_id',\n",
    "    'start_dttm',\n",
    "    'hour_24_start_dttm',\n",
    "    'hour_24_end_dttm',\n",
    "    'disposition'\n",
    "]]\n",
    "\n",
    "print(f\"✅ Final cohort created: {len(cohort_final)} hospitalizations\")\n",
    "print(f\"Mortality rate: {cohort_final['disposition'].mean():.3f}\")"
   ]
  },
  {
   "cell_type": "code",
   "execution_count": 15,
   "id": "08f7e075",
   "metadata": {
    "execution": {
     "iopub.execute_input": "2025-07-31T22:28:52.717137Z",
     "iopub.status.busy": "2025-07-31T22:28:52.717059Z",
     "iopub.status.idle": "2025-07-31T22:28:52.719370Z",
     "shell.execute_reply": "2025-07-31T22:28:52.719184Z"
    },
    "papermill": {
     "duration": 0.004393,
     "end_time": "2025-07-31T22:28:52.719898",
     "exception": false,
     "start_time": "2025-07-31T22:28:52.715505",
     "status": "completed"
    },
    "tags": []
   },
   "outputs": [
    {
     "data": {
      "text/plain": [
       "disposition\n",
       "0    88.96696\n",
       "1    11.03304\n",
       "Name: count, dtype: float64"
      ]
     },
     "execution_count": 15,
     "metadata": {},
     "output_type": "execute_result"
    }
   ],
   "source": [
    "cohort_final['disposition'].value_counts()*100/cohort_final.shape[0]"
   ]
  },
  {
   "cell_type": "markdown",
   "id": "b9f6c6eb",
   "metadata": {
    "papermill": {
     "duration": 0.001311,
     "end_time": "2025-07-31T22:28:52.722437",
     "exception": false,
     "start_time": "2025-07-31T22:28:52.721126",
     "status": "completed"
    },
    "tags": []
   },
   "source": [
    "## Cohort Summary and Validation"
   ]
  },
  {
   "cell_type": "code",
   "execution_count": 16,
   "id": "6cb7028e",
   "metadata": {
    "execution": {
     "iopub.execute_input": "2025-07-31T22:28:52.725533Z",
     "iopub.status.busy": "2025-07-31T22:28:52.725445Z",
     "iopub.status.idle": "2025-07-31T22:28:52.736640Z",
     "shell.execute_reply": "2025-07-31T22:28:52.736451Z"
    },
    "papermill": {
     "duration": 0.013299,
     "end_time": "2025-07-31T22:28:52.737200",
     "exception": false,
     "start_time": "2025-07-31T22:28:52.723901",
     "status": "completed"
    },
    "tags": []
   },
   "outputs": [
    {
     "name": "stdout",
     "output_type": "stream",
     "text": [
      "=== ICU Cohort Summary ===\n",
      "Total hospitalizations: 54,509\n",
      "Mortality rate: 0.110 (6,014 deaths)\n",
      "Survival rate: 0.890 (48,495 survivors)\n",
      "\n",
      "=== Time Range Analysis ===\n",
      "Cohort start date: 2105-10-04 22:27:12+00:00\n",
      "Cohort end date: 2214-05-03 22:09:18+00:00\n",
      "24-hour window duration: 1 days 00:00:00\n",
      "\n",
      "=== Validation Checks ===\n",
      "All 24-hour windows are exactly 24 hours: True\n",
      "No missing hospitalization IDs: True\n",
      "All start times before end times: True\n"
     ]
    }
   ],
   "source": [
    "# Display cohort summary\n",
    "print(\"=== ICU Cohort Summary ===\")\n",
    "print(f\"Total hospitalizations: {len(cohort_final):,}\")\n",
    "print(f\"Mortality rate: {cohort_final['disposition'].mean():.3f} ({cohort_final['disposition'].sum():,} deaths)\")\n",
    "print(f\"Survival rate: {1 - cohort_final['disposition'].mean():.3f} ({(cohort_final['disposition'] == 0).sum():,} survivors)\")\n",
    "\n",
    "# Time range analysis\n",
    "print(f\"\\n=== Time Range Analysis ===\")\n",
    "print(f\"Cohort start date: {cohort_final['start_dttm'].min()}\")\n",
    "print(f\"Cohort end date: {cohort_final['start_dttm'].max()}\")\n",
    "print(f\"24-hour window duration: {(cohort_final['hour_24_end_dttm'] - cohort_final['hour_24_start_dttm']).iloc[0]}\")\n",
    "\n",
    "# Validation checks\n",
    "print(f\"\\n=== Validation Checks ===\")\n",
    "print(f\"All 24-hour windows are exactly 24 hours: {((cohort_final['hour_24_end_dttm'] - cohort_final['hour_24_start_dttm']).dt.total_seconds() == 24*3600).all()}\")\n",
    "print(f\"No missing hospitalization IDs: {cohort_final['hospitalization_id'].isna().sum() == 0}\")\n",
    "print(f\"All start times before end times: {(cohort_final['start_dttm'] <= cohort_final['hour_24_end_dttm']).all()}\")"
   ]
  },
  {
   "cell_type": "markdown",
   "id": "ed988783",
   "metadata": {
    "papermill": {
     "duration": 0.001206,
     "end_time": "2025-07-31T22:28:52.739783",
     "exception": false,
     "start_time": "2025-07-31T22:28:52.738577",
     "status": "completed"
    },
    "tags": []
   },
   "source": [
    "## Save Cohort to Output Directory"
   ]
  },
  {
   "cell_type": "code",
   "execution_count": 17,
   "id": "39b0948a",
   "metadata": {
    "execution": {
     "iopub.execute_input": "2025-07-31T22:28:52.742479Z",
     "iopub.status.busy": "2025-07-31T22:28:52.742398Z",
     "iopub.status.idle": "2025-07-31T22:28:52.763909Z",
     "shell.execute_reply": "2025-07-31T22:28:52.763562Z"
    },
    "papermill": {
     "duration": 0.023799,
     "end_time": "2025-07-31T22:28:52.764748",
     "exception": false,
     "start_time": "2025-07-31T22:28:52.740949",
     "status": "completed"
    },
    "tags": []
   },
   "outputs": [
    {
     "name": "stdout",
     "output_type": "stream",
     "text": [
      "✅ Cohort saved to: ../../protected_outputs/preprocessing/icu_cohort.parquet\n",
      "File size: 2091.1 KB\n",
      "Shape: (54509, 5)\n",
      "✅ Metadata saved to: ../../protected_outputs/preprocessing/cohort_metadata.json\n",
      "\n",
      "🎉 Cohort generation completed successfully!\n"
     ]
    }
   ],
   "source": [
    "# Save cohort to protected_outputs/preprocessing directory\n",
    "output_path = os.path.join('..', '..', 'protected_outputs', 'preprocessing', 'icu_cohort.parquet')\n",
    "cohort_final.to_parquet(output_path, index=False)\n",
    "\n",
    "print(f\"✅ Cohort saved to: {output_path}\")\n",
    "print(f\"File size: {os.path.getsize(output_path) / 1024:.1f} KB\")\n",
    "print(f\"Shape: {cohort_final.shape}\")\n",
    "\n",
    "# Save additional metadata\n",
    "metadata = {\n",
    "    'cohort_size': len(cohort_final),\n",
    "    'mortality_rate': float(cohort_final['disposition'].mean()),\n",
    "    'date_range': {\n",
    "        'start': cohort_final['start_dttm'].min().isoformat(),\n",
    "        'end': cohort_final['start_dttm'].max().isoformat()\n",
    "    },\n",
    "    'criteria': {\n",
    "        'min_age': 18,\n",
    "        'years': '2020-2021',\n",
    "        'icu_window': '48_hours_from_admission',\n",
    "        'min_icu_duration': '24_hours',\n",
    "        'icu_or_icu_handling': 'continuous_icu'\n",
    "    }\n",
    "}\n",
    "\n",
    "metadata_path = os.path.join('..', '..', 'protected_outputs', 'preprocessing', 'cohort_metadata.json')\n",
    "with open(metadata_path, 'w') as f:\n",
    "    json.dump(metadata, f, indent=2)\n",
    "\n",
    "print(f\"✅ Metadata saved to: {metadata_path}\")\n",
    "print(\"\\n🎉 Cohort generation completed successfully!\")"
   ]
  }
 ],
 "metadata": {
  "kernelspec": {
   "display_name": "flameICU",
   "language": "python",
   "name": "python3"
  },
  "language_info": {
   "codemirror_mode": {
    "name": "ipython",
    "version": 3
   },
   "file_extension": ".py",
   "mimetype": "text/x-python",
   "name": "python",
   "nbconvert_exporter": "python",
   "pygments_lexer": "ipython3",
   "version": "3.13.5"
  },
  "papermill": {
   "default_parameters": {},
   "duration": 4.029414,
   "end_time": "2025-07-31T22:28:53.083649",
   "environment_variables": {},
   "exception": null,
   "input_path": "01_cohort.ipynb",
   "output_path": "01_cohort.ipynb",
   "parameters": {},
   "start_time": "2025-07-31T22:28:49.054235",
   "version": "2.6.0"
  }
 },
 "nbformat": 4,
 "nbformat_minor": 5
}